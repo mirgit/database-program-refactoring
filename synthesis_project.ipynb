{
  "nbformat": 4,
  "nbformat_minor": 0,
  "metadata": {
    "colab": {
      "name": "synthesis project.ipynb",
      "provenance": [],
      "collapsed_sections": []
    },
    "kernelspec": {
      "name": "python3",
      "display_name": "Python 3"
    },
    "language_info": {
      "name": "python"
    }
  },
  "cells": [
    {
      "cell_type": "code",
      "metadata": {
        "id": "7z8jJ1vhHOZ-",
        "colab": {
          "base_uri": "https://localhost:8080/"
        },
        "outputId": "48219706-8a46-4a9e-aa5b-cf3accdd834a"
      },
      "source": [
        "!pip install python-sat[pblib,aiger]\n",
        "!pip install python-Levenshtein"
      ],
      "execution_count": null,
      "outputs": [
        {
          "output_type": "stream",
          "text": [
            "Requirement already satisfied: python-sat[aiger,pblib] in /usr/local/lib/python3.7/dist-packages (0.1.7.dev2)\n",
            "Requirement already satisfied: six in /usr/local/lib/python3.7/dist-packages (from python-sat[aiger,pblib]) (1.15.0)\n",
            "Requirement already satisfied: py-aiger-cnf>=2.0.0; extra == \"aiger\" in /usr/local/lib/python3.7/dist-packages (from python-sat[aiger,pblib]) (5.0.1)\n",
            "Requirement already satisfied: pypblib>=0.0.3; extra == \"pblib\" in /usr/local/lib/python3.7/dist-packages (from python-sat[aiger,pblib]) (0.0.4)\n",
            "Requirement already satisfied: py-aiger<7.0.0,>=6.0.0 in /usr/local/lib/python3.7/dist-packages (from py-aiger-cnf>=2.0.0; extra == \"aiger\"->python-sat[aiger,pblib]) (6.1.14)\n",
            "Requirement already satisfied: bidict<0.22.0,>=0.21.0 in /usr/local/lib/python3.7/dist-packages (from py-aiger-cnf>=2.0.0; extra == \"aiger\"->python-sat[aiger,pblib]) (0.21.2)\n",
            "Requirement already satisfied: funcy<2.0,>=1.12 in /usr/local/lib/python3.7/dist-packages (from py-aiger-cnf>=2.0.0; extra == \"aiger\"->python-sat[aiger,pblib]) (1.15)\n",
            "Requirement already satisfied: sortedcontainers<3.0.0,>=2.3.0 in /usr/local/lib/python3.7/dist-packages (from py-aiger<7.0.0,>=6.0.0->py-aiger-cnf>=2.0.0; extra == \"aiger\"->python-sat[aiger,pblib]) (2.3.0)\n",
            "Requirement already satisfied: toposort<2.0,>=1.5 in /usr/local/lib/python3.7/dist-packages (from py-aiger<7.0.0,>=6.0.0->py-aiger-cnf>=2.0.0; extra == \"aiger\"->python-sat[aiger,pblib]) (1.6)\n",
            "Requirement already satisfied: attrs<21.0.0,>=20.0.0 in /usr/local/lib/python3.7/dist-packages (from py-aiger<7.0.0,>=6.0.0->py-aiger-cnf>=2.0.0; extra == \"aiger\"->python-sat[aiger,pblib]) (20.3.0)\n",
            "Requirement already satisfied: pyrsistent<0.18.0,>=0.17.0 in /usr/local/lib/python3.7/dist-packages (from py-aiger<7.0.0,>=6.0.0->py-aiger-cnf>=2.0.0; extra == \"aiger\"->python-sat[aiger,pblib]) (0.17.3)\n",
            "Requirement already satisfied: parsimonious<0.9.0,>=0.8.1 in /usr/local/lib/python3.7/dist-packages (from py-aiger<7.0.0,>=6.0.0->py-aiger-cnf>=2.0.0; extra == \"aiger\"->python-sat[aiger,pblib]) (0.8.1)\n",
            "Requirement already satisfied: python-Levenshtein in /usr/local/lib/python3.7/dist-packages (0.12.2)\n",
            "Requirement already satisfied: setuptools in /usr/local/lib/python3.7/dist-packages (from python-Levenshtein) (56.0.0)\n"
          ],
          "name": "stdout"
        }
      ]
    },
    {
      "cell_type": "markdown",
      "metadata": {
        "id": "VPjHeLRCItQO"
      },
      "source": [
        "# value correspondance\n",
        "\n"
      ]
    },
    {
      "cell_type": "code",
      "metadata": {
        "colab": {
          "base_uri": "https://localhost:8080/"
        },
        "id": "COvTvU2EhtUv",
        "outputId": "102bd71d-52ed-4f4d-d6b0-0d0f77d77cc8"
      },
      "source": [
        "#### or:\n",
        "# # import the enchant module\n",
        "# import enchant\n",
        "  \n",
        "# # determining the values of the parameters\n",
        "# string1 = \"abc\"\n",
        "# string2 = \"aef\"\n",
        "  \n",
        "# # the Levenshtein distance between\n",
        "# # string1 and string2\n",
        "# print(enchant.utils.levenshtein(string1, string2))"
      ],
      "execution_count": null,
      "outputs": [
        {
          "output_type": "stream",
          "text": [
            "Collecting python-Levenshtein\n",
            "\u001b[?25l  Downloading https://files.pythonhosted.org/packages/2a/dc/97f2b63ef0fa1fd78dcb7195aca577804f6b2b51e712516cc0e902a9a201/python-Levenshtein-0.12.2.tar.gz (50kB)\n",
            "\r\u001b[K     |██████▌                         | 10kB 14.9MB/s eta 0:00:01\r\u001b[K     |█████████████                   | 20kB 13.5MB/s eta 0:00:01\r\u001b[K     |███████████████████▌            | 30kB 10.3MB/s eta 0:00:01\r\u001b[K     |██████████████████████████      | 40kB 8.4MB/s eta 0:00:01\r\u001b[K     |████████████████████████████████| 51kB 2.0MB/s \n",
            "\u001b[?25hRequirement already satisfied: setuptools in /usr/local/lib/python3.7/dist-packages (from python-Levenshtein) (56.0.0)\n",
            "Building wheels for collected packages: python-Levenshtein\n",
            "  Building wheel for python-Levenshtein (setup.py) ... \u001b[?25l\u001b[?25hdone\n",
            "  Created wheel for python-Levenshtein: filename=python_Levenshtein-0.12.2-cp37-cp37m-linux_x86_64.whl size=149813 sha256=3011bd71ee66a15e197cbfa404f31414d74f7077377e2a87a8209e19a5e5f0b9\n",
            "  Stored in directory: /root/.cache/pip/wheels/b3/26/73/4b48503bac73f01cf18e52cd250947049a7f339e940c5df8fc\n",
            "Successfully built python-Levenshtein\n",
            "Installing collected packages: python-Levenshtein\n",
            "Successfully installed python-Levenshtein-0.12.2\n"
          ],
          "name": "stdout"
        }
      ]
    },
    {
      "cell_type": "code",
      "metadata": {
        "colab": {
          "base_uri": "https://localhost:8080/"
        },
        "id": "2cL3M2ZEop0k",
        "outputId": "b1537254-1c55-4a2a-ac1b-bfa3ca510222"
      },
      "source": [
        "# sum((len(v) for v in newSchema.values()))\n",
        "class schema:\n",
        "  def __init__(self, s):\n",
        "    self.schema = s\n",
        "    \n",
        "    self.cols = {t+'.'+x:self.schema[t][x] for  t in self.schema for x in self.schema[t]}\n",
        "    self.attr2id = {c:i for i,c in enumerate(self.cols)}\n",
        "    self.id2attr = {self.attr2id[c]:c for c in self.attr2id}\n",
        "  def name_to_id(self,a):#if not exist...!!!!!!!!\n",
        "    return  self.attr2id[a]\n",
        "  def id_to_name(self,a):#if not exist...!!!!!!!!\n",
        "    return (self.id2attr[a])\n",
        "  def id_to_type(self,a):#if not exist...!!!!!!!!\n",
        "    return (self.cols[self.id2attr[a]])\n",
        "  def size(self):\n",
        "    return len(self.attr2id)\n",
        "oldSchema={'Class':{'ClassId':'int','InstId':'int','TaId':'int'},'Instructor':{'InstId':'int','IName':'string','IPic':'picture'},'TA':{'TaId':'int','TName':'string','TPic':'picture'}}\n",
        "newSchema={'Class':{'ClassId':'int','InstId':'int','TaId':'int'},'Instructor':{'InstId':'int','IName':'string','PicId':'int'},'TA':{'TaId':'int','TName':'string','PicId':'int'},'Picture':{'PicId':'int','Pic':'picture'}}\n",
        "s2= schema(newSchema)\n",
        "s1= schema(oldSchema)\n",
        "s1.name_to_id('TA.TName')\n",
        "# s2.size()"
      ],
      "execution_count": null,
      "outputs": [
        {
          "output_type": "execute_result",
          "data": {
            "text/plain": [
              "7"
            ]
          },
          "metadata": {
            "tags": []
          },
          "execution_count": 113
        }
      ]
    },
    {
      "cell_type": "code",
      "metadata": {
        "id": "iz-qa9LQIjtJ"
      },
      "source": [
        "from pysat.formula import WCNF\n",
        "from Levenshtein import distance as levenshtein_distance\n",
        "from pysat.solvers import Solver\n",
        "from pysat.examples.rc2 import RC2\n",
        "\n",
        "#!!!! bug: -0 is meaningless\n",
        "class val_corr_generator:\n",
        "  def __init__(self,S1,S2):\n",
        "    alpha = 15\n",
        "    size1=S1.size()\n",
        "    size2=S2.size()\n",
        "    self.size1=size1\n",
        "    self.S1=S1\n",
        "    self.S2=S2\n",
        "\n",
        "    self.cnf = RC2(WCNF())\n",
        "\n",
        "    ## hard: variables !!!!!! really needed?\n",
        "    for i in range (size1*size2):\n",
        "      self.cnf.add_clause([i,-i])\n",
        "\n",
        "    ## hard: type-matching-conditions\n",
        "    for i in range(size1):\n",
        "      for j in range(size2):\n",
        "        if S1.id_to_type(i) != S2.id_to_type(j):\n",
        "          self.cnf.add_clause([-self.twoD2oneD(i,j)])\n",
        "    \n",
        "    ## hard: match each i to some j !!!!!!change to a_is that are queried in p\n",
        "    # js=[x for x in range(size2)]\n",
        "    for i in range(size1):\n",
        "      all_poss=[self.twoD2oneD(i,j) for j in range(size2)]\n",
        "      self.cnf.add_clause(all_poss)\n",
        "\n",
        "    ## soft: prefer 1-1 to 1-many\n",
        "    for i in range(size1):\n",
        "      for j in range(size2):\n",
        "        for k in range(j,size2):\n",
        "          self.cnf.add_clause([-self.twoD2oneD(i,j),-self.twoD2oneD(i,k)], weight = alpha)\n",
        "\n",
        "    ## soft: similar names: more score!!!!!! change similarity maybe..\n",
        "    for i in range(size1):\n",
        "      for j in range(size2):\n",
        "        similarity = 20 - levenshtein_distance(S1.id_to_name(i),S2.id_to_name(j))\n",
        "        self.cnf.add_clause([self.twoD2oneD(i,j)],similarity)\n",
        "\n",
        "    # last_sol?(use in update)\n",
        "    # self.solver = Solver()\n",
        "    # self.solver.append_formula(self.cnf.clauses, no_return=False)#!!!!!no_return?!\n",
        "  \n",
        "  def max_sat_solver(self):\n",
        "    self.last_solution = self.cnf.compute()\n",
        "    # self.solver.solve()\n",
        "    # print(self.solver.get_model())\n",
        "    # solver.delete()\n",
        "  def max_sat_updater(self):\n",
        "    for x in self.last_solution:\n",
        "      self.cnf.add_clause([-x])\n",
        "  def return_sol(self):\n",
        "    matching={}\n",
        "    for i in self.last_solution:\n",
        "      if i>0:\n",
        "        a,b=self.oneD2twoD(i)\n",
        "        a = self.S1.id_to_name(a)\n",
        "        b = self.S2.id_to_name(b)\n",
        "        if a in matching:\n",
        "          matching[a].append(b)\n",
        "        else:\n",
        "          matching[a]=[b]\n",
        "    print(matching)\n",
        "\n",
        "  def twoD2oneD(self,i,j):\n",
        "    return j*self.size1+i\n",
        "  def oneD2twoD(self,x):\n",
        "    return (x%self.size1,int(x/self.size1)) "
      ],
      "execution_count": null,
      "outputs": []
    },
    {
      "cell_type": "code",
      "metadata": {
        "colab": {
          "base_uri": "https://localhost:8080/"
        },
        "id": "j2WuSfe8VV-L",
        "outputId": "cc27fcdc-67d9-48bf-df02-ec41de194d71"
      },
      "source": [
        "phi = val_corr_generator(s1,s2)\n",
        "a=phi.max_sat_solver()\n",
        "phi.return_sol()\n",
        "\n",
        "# phi.max_sat_updater()#!!!! inja akhe ino seda bezanin?:/\n",
        "# b=phi.max_sat_solver()"
      ],
      "execution_count": null,
      "outputs": [
        {
          "output_type": "stream",
          "text": [
            "{'Class.ClassId': ['Class.InstId'], 'Class.InstId': ['Class.InstId'], 'Class.TaId': ['Class.TaId'], 'Instructor.InstId': ['Instructor.InstId'], 'Instructor.IName': ['Instructor.IName'], 'TA.TaId': ['TA.TaId'], 'TA.TName': ['TA.TName'], 'Instructor.IPic': ['Picture.Pic'], 'TA.TPic': ['Picture.Pic']}\n"
          ],
          "name": "stdout"
        }
      ]
    }
  ]
}
